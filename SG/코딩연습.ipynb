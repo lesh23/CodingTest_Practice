{
 "cells": [
  {
   "cell_type": "code",
   "execution_count": null,
   "metadata": {},
   "outputs": [],
   "source": [
    "def point(arr):\n",
    "    for i in range(0,len(arr)-1):\n",
    "        for j in range(i+1,len(arr)):\n",
    "            if arr[i][0]== arr[j][1]:\n",
    "                arr[j]= [arr[j][0]]+arr[i]\n",
    "    answer = []\n",
    "    for k in range(0,len(arr)):\n",
    "        for m,n in enumerate(arr[k]):\n",
    "            answer.append([n,m])\n",
    "    rem = [item for item in answer if item[0]!='-']\n",
    "    result = []\n",
    "\n",
    "    for item in rem:\n",
    "        key, value = item\n",
    "        for point in result:\n",
    "            if point[0] == key:\n",
    "                point[1] += 100.0 * (0.1) ** (value-1)\n",
    "                break\n",
    "        else:\n",
    "            result.append([key, 0])\n",
    "    return result"
   ]
  }
 ],
 "metadata": {
  "language_info": {
   "name": "python"
  },
  "orig_nbformat": 4
 },
 "nbformat": 4,
 "nbformat_minor": 2
}

{
 "cells": [
  {
   "cell_type": "markdown",
   "id": "0a030fde",
   "metadata": {},
   "source": [
    "# 코테문제1"
   ]
  },
  {
   "cell_type": "code",
   "execution_count": 1,
   "id": "c00078d8",
   "metadata": {},
   "outputs": [
    {
     "name": "stdout",
     "output_type": "stream",
     "text": [
      "[-1, -2, 2, 1] [-1] [-2, 2, 1]\n",
      "[-1, -2, 2, 1] [-1, -2] [2, 1]\n",
      "[-1, -2, 2, 1] [-1, -2, 2] [1]\n",
      "2\n",
      "[4, 2, 4, -3, -1] [4] [2, 4, -3, -1]\n",
      "[4, 2, 4, -3, -1] [4, 2] [4, -3, -1]\n",
      "[4, 2, 4, -3, -1] [4, 2, 4] [-3, -1]\n",
      "[4, 2, 4, -3, -1] [4, 2, 4, -3] [-1]\n",
      "3\n",
      "[1, 2, 1, 2] [1] [2, 1, 2]\n",
      "[1, 2, 1, 2] [1, 2] [1, 2]\n",
      "[1, 2, 1, 2] [1, 2, 1] [2]\n",
      "3\n"
     ]
    }
   ],
   "source": [
    "from math import comb\n",
    "\n",
    "lists = [[-1,-2,2,1],[4,2,4,-3,-1],[1,2,1,2]]\n",
    "\n",
    "for li in lists:\n",
    "    score = 0\n",
    "    for i in range(1,len(li)):\n",
    "        left = li[:i]\n",
    "        right = li[i:]\n",
    "        print(li, left, right)\n",
    "        if sum(left)==sum(right):\n",
    "            score+=1\n",
    "            score+=(comb(len(left),1)-1)+(comb(len(right),1)-1)\n",
    "                    \n",
    "                \n",
    "        else:\n",
    "            for j, _ in enumerate(left):\n",
    "                for i, _ in enumerate(right):\n",
    "                    tmpL = left[:]\n",
    "                    tmpR = right[:]\n",
    "\n",
    "                    tmp = left[j]\n",
    "\n",
    "                    tmpL[j]=right[i]\n",
    "\n",
    "                    tmpR[i]=tmp\n",
    "\n",
    "                    if sum(tmpL)==sum(tmpR):\n",
    "                        score+=1\n",
    "#                       \n",
    "                                \n",
    "    print(score)"
   ]
  },
  {
   "cell_type": "markdown",
   "id": "cad16669",
   "metadata": {},
   "source": [
    "# 코테문제2"
   ]
  },
  {
   "cell_type": "code",
   "execution_count": 3,
   "id": "04ccb216",
   "metadata": {},
   "outputs": [],
   "source": [
    "members = [['a','-'],['b','a'],['c','b'],['d','c'],['e','d'],['f','e']]\n",
    "p = 100"
   ]
  },
  {
   "cell_type": "code",
   "execution_count": 4,
   "id": "20785c9b",
   "metadata": {},
   "outputs": [],
   "source": [
    "# members = [['a','-'],['b','a'],['c','b'],['d','b'],['e','-'],['f','d']]\n",
    "# p = 123"
   ]
  },
  {
   "cell_type": "code",
   "execution_count": 2,
   "id": "b5a50245",
   "metadata": {},
   "outputs": [
    {
     "ename": "NameError",
     "evalue": "name 'members' is not defined",
     "output_type": "error",
     "traceback": [
      "\u001b[0;31m---------------------------------------------------------------------------\u001b[0m",
      "\u001b[0;31mNameError\u001b[0m                                 Traceback (most recent call last)",
      "Cell \u001b[0;32mIn [2], line 34\u001b[0m\n\u001b[1;32m     32\u001b[0m \u001b[38;5;66;03m#         print(k,v)\u001b[39;00m\n\u001b[1;32m     33\u001b[0m     \u001b[38;5;28mprint\u001b[39m(answer)\n\u001b[0;32m---> 34\u001b[0m main(\u001b[43mmembers\u001b[49m, p)\n",
      "\u001b[0;31mNameError\u001b[0m: name 'members' is not defined"
     ]
    }
   ],
   "source": [
    "# def getRecc(m,count, p, dic):\n",
    "def getRecc(m,p,dic):\n",
    "    for x in members:\n",
    "#         print(x[0], x[1])\n",
    "        if x[0]==m and x[1]=='-':\n",
    "            return x[1]\n",
    "        elif x[0]==m and x[1]!='-':\n",
    "#             count.append(p)\n",
    "#             print(dic, count)\n",
    "            dic[x[1]] += p\n",
    "            p=p*0.1\n",
    "#             return getRecc(x[1],count, p, dic)\n",
    "            return getRecc(x[1],p,dic)\n",
    "        \n",
    "def main(members, p):\n",
    "    points = [[m[0], 0] for m in members]\n",
    "    dic = {}\n",
    "    for pt in points:\n",
    "        dic[pt[0]] = 0\n",
    "    for m in members:\n",
    "#         count = []\n",
    "#         recc = getRecc(m[0],count,p, dic)\n",
    "        recc = getRecc(m[0],p, dic)\n",
    "#         print(m, count, recc)\n",
    "#         print(points)\n",
    "        \n",
    "#         print(m[0],'\\'s 추천인 is', recc)\n",
    "    answer=[]\n",
    "    for k,v in dic.items():\n",
    "        if v != 0:\n",
    "            answer.append([k, v])\n",
    "#         print(k,v)\n",
    "    print(answer)\n",
    "main(members, p)"
   ]
  },
  {
   "cell_type": "code",
   "execution_count": null,
   "id": "6f08a861",
   "metadata": {},
   "outputs": [],
   "source": []
  },
  {
   "cell_type": "code",
   "execution_count": null,
   "id": "a8daf5a2",
   "metadata": {},
   "outputs": [],
   "source": []
  },
  {
   "cell_type": "code",
   "execution_count": null,
   "id": "c3cb1d45",
   "metadata": {},
   "outputs": [],
   "source": []
  },
  {
   "cell_type": "code",
   "execution_count": null,
   "id": "2f5e0712",
   "metadata": {},
   "outputs": [],
   "source": []
  },
  {
   "cell_type": "code",
   "execution_count": null,
   "id": "37a3cfcf",
   "metadata": {},
   "outputs": [],
   "source": []
  },
  {
   "cell_type": "code",
   "execution_count": null,
   "id": "440ca1d7",
   "metadata": {},
   "outputs": [],
   "source": []
  }
 ],
 "metadata": {
  "kernelspec": {
   "display_name": "Python 3 (ipykernel)",
   "language": "python",
   "name": "python3"
  },
  "language_info": {
   "codemirror_mode": {
    "name": "ipython",
    "version": 3
   },
   "file_extension": ".py",
   "mimetype": "text/x-python",
   "name": "python",
   "nbconvert_exporter": "python",
   "pygments_lexer": "ipython3",
   "version": "3.9.15"
  }
 },
 "nbformat": 4,
 "nbformat_minor": 5
}

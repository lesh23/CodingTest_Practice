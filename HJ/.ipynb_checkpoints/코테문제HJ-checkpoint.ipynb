{
 "cells": [
  {
   "cell_type": "markdown",
   "id": "57449547",
   "metadata": {},
   "source": [
    "# 코테문제1"
   ]
  },
  {
   "cell_type": "code",
   "execution_count": 1,
   "id": "a2667213",
   "metadata": {},
   "outputs": [
    {
     "name": "stdout",
     "output_type": "stream",
     "text": [
      "[-1, -2, 2, 1] [-1] [-2, 2, 1]\n",
      "[-1, -2, 2, 1] [-1, -2] [2, 1]\n",
      "[-1, -2, 2, 1] [-1, -2, 2] [1]\n",
      "2\n",
      "[4, 2, 4, -3, -1] [4] [2, 4, -3, -1]\n",
      "[4, 2, 4, -3, -1] [4, 2] [4, -3, -1]\n",
      "[4, 2, 4, -3, -1] [4, 2, 4] [-3, -1]\n",
      "[4, 2, 4, -3, -1] [4, 2, 4, -3] [-1]\n",
      "3\n",
      "[1, 2, 1, 2] [1] [2, 1, 2]\n",
      "[1, 2, 1, 2] [1, 2] [1, 2]\n",
      "[1, 2, 1, 2] [1, 2, 1] [2]\n",
      "3\n"
     ]
    }
   ],
   "source": [
    "from math import comb\n",
    "\n",
    "lists = [[-1,-2,2,1],[4,2,4,-3,-1],[1,2,1,2]]\n",
    "\n",
    "for li in lists:\n",
    "    score = 0\n",
    "    for i in range(1,len(li)):\n",
    "        left = li[:i]\n",
    "        right = li[i:]\n",
    "        print(li, left, right)\n",
    "        if sum(left)==sum(right):\n",
    "            score+=1\n",
    "            score+=(comb(len(left),1)-1)+(comb(len(right),1)-1)\n",
    "                    \n",
    "                \n",
    "        else:\n",
    "            for j, _ in enumerate(left):\n",
    "                for i, _ in enumerate(right):\n",
    "                    tmpL = left[:]\n",
    "                    tmpR = right[:]\n",
    "\n",
    "                    tmp = left[j]\n",
    "\n",
    "                    tmpL[j]=right[i]\n",
    "\n",
    "                    tmpR[i]=tmp\n",
    "\n",
    "                    if sum(tmpL)==sum(tmpR):\n",
    "                        score+=1\n",
    "#                       \n",
    "                                \n",
    "    print(score)"
   ]
  },
  {
   "cell_type": "markdown",
   "id": "14a7d53a",
   "metadata": {},
   "source": [
    "# 코테문제 2\n",
    "연속n달이어야함!\n",
    "기준을 마지막달 기준으로 ㄷㄷ"
   ]
  },
  {
   "cell_type": "code",
   "execution_count": 1,
   "id": "4a789ebe",
   "metadata": {},
   "outputs": [],
   "source": [
    "k=3\n",
    "data=[\"2022.01.03 6000\",\n",
    "\"2022.01.05 5000\",\n",
    "\"2022.01.07 10000\",\n",
    "\"2022.01.20 50000\",\n",
    "\"2022.01.22 7000\",\n",
    "\"2022.02.01 15000\",\n",
    "\"2022.02.03 6000\",\n",
    "\"2022.02.05 5000\",\n",
    "\"2022.02.20 50000\",\n",
    "\"2022.03.01 15000\",\n",
    "\"2022.03.05 5000\",\n",
    "\"2022.03.08 10000\",\n",
    "\"2022.03.20 45000\",\n",
    "\"2022.04.01 15000\",\n",
    "\"2022.04.03 6000\",\n",
    "\"2022.04.05 5000\",\n",
    "\"2022.04.10 10500\"]"
   ]
  },
  {
   "cell_type": "code",
   "execution_count": 3,
   "id": "4baffca7",
   "metadata": {},
   "outputs": [
    {
     "name": "stdout",
     "output_type": "stream",
     "text": [
      "[3, 6000] 3\n",
      "[5, 5000] 4\n",
      "[7, 10000] 1\n",
      "[20, 50000] 2\n",
      "[22, 7000] 1\n",
      "[1, 15000] 3\n",
      "[3, 6000] 3\n",
      "[5, 5000] 4\n",
      "[20, 50000] 2\n",
      "[1, 15000] 3\n",
      "[5, 5000] 4\n",
      "[8, 10000] 1\n",
      "[20, 45000] 1\n",
      "[1, 15000] 3\n",
      "[3, 6000] 3\n",
      "[5, 5000] 4\n",
      "[10, 10500] 1\n"
     ]
    },
    {
     "data": {
      "text/plain": [
       "[[3, 6000], [5, 5000], [1, 15000]]"
      ]
     },
     "execution_count": 3,
     "metadata": {},
     "output_type": "execute_result"
    }
   ],
   "source": [
    "arr = [[int(d.split()[0][-2:]), int(d.split()[1])] for d in data]\n",
    "answer=[]\n",
    "for a in arr:\n",
    "    if arr.count(a)>=k and a not in answer:\n",
    "        answer.append(a)\n",
    "    print(a, arr.count(a))\n",
    "\n",
    "answer"
   ]
  },
  {
   "cell_type": "code",
   "execution_count": null,
   "id": "f9ec22fd",
   "metadata": {},
   "outputs": [],
   "source": []
  },
  {
   "cell_type": "code",
   "execution_count": null,
   "id": "b368a976",
   "metadata": {},
   "outputs": [],
   "source": []
  },
  {
   "cell_type": "markdown",
   "id": "c6c9ad14",
   "metadata": {},
   "source": [
    "# 코테문제3\n",
    "포인트 많은 순 + 0점인 사람들 포함"
   ]
  },
  {
   "cell_type": "code",
   "execution_count": 15,
   "id": "10a35fac",
   "metadata": {},
   "outputs": [],
   "source": [
    "members = [['a','-'],['b','a'],['c','b'],['d','c'],['e','d'],['f','e']]\n",
    "p = 100"
   ]
  },
  {
   "cell_type": "code",
   "execution_count": 7,
   "id": "ee72c664",
   "metadata": {},
   "outputs": [],
   "source": [
    "# members = [['a','-'],['b','a'],['c','b'],['d','b'],['e','-'],['f','d']]\n",
    "# p = 123"
   ]
  },
  {
   "cell_type": "code",
   "execution_count": 16,
   "id": "031e2179",
   "metadata": {},
   "outputs": [
    {
     "name": "stdout",
     "output_type": "stream",
     "text": [
      "[['a', 111], ['b', 111], ['c', 111], ['d', 110], ['e', 100], ['f', 0]]\n"
     ]
    }
   ],
   "source": [
    "# def getRecc(m,count, p, dic):\n",
    "def getRecc(m,p,dic):\n",
    "    for x in members:\n",
    "#         print(x[0], x[1])\n",
    "        if x[0]==m and x[1]=='-':\n",
    "            return x[1]\n",
    "        elif x[0]==m and x[1]!='-':\n",
    "#             count.append(p)\n",
    "#             print(dic, count)\n",
    "            dic[x[1]] += p\n",
    "            p=int(p*0.1)\n",
    "#             return getRecc(x[1],count, p, dic)\n",
    "            return getRecc(x[1],p,dic)\n",
    "        \n",
    "def main(members, p):\n",
    "    points = [[m[0], 0] for m in members]\n",
    "    dic = {}\n",
    "    for pt in points:\n",
    "        dic[pt[0]] = 0\n",
    "    for m in members:\n",
    "#         count = []\n",
    "#         recc = getRecc(m[0],count,p, dic)\n",
    "        recc = getRecc(m[0],p, dic)\n",
    "#         print(m, count, recc)\n",
    "#         print(points)\n",
    "        \n",
    "#         print(m[0],'\\'s 추천인 is', recc)\n",
    "    answer=[]\n",
    "    for k,v in dic.items():\n",
    "        answer.append([k,v])\n",
    "#         if v != 0:\n",
    "#             answer.append([k, v])\n",
    "#         print(k,v)\n",
    "    print(sorted(answer, key=lambda x: x[1], reverse=True))\n",
    "main(members, p)"
   ]
  },
  {
   "cell_type": "markdown",
   "id": "9689ff72",
   "metadata": {},
   "source": [
    "# 코테문제4"
   ]
  },
  {
   "cell_type": "code",
   "execution_count": 14,
   "id": "40d47a18",
   "metadata": {},
   "outputs": [],
   "source": [
    "# lotto= [[1,0],[1,0],[3,0],[100,1],[3,0],[3,1],[1,1],[1,1]]\n",
    "# lotto= [[1,0],[2,0],[3,0]] "
   ]
  },
  {
   "cell_type": "code",
   "execution_count": 15,
   "id": "827ac2cc",
   "metadata": {},
   "outputs": [
    {
     "ename": "NameError",
     "evalue": "name 'lotto' is not defined",
     "output_type": "error",
     "traceback": [
      "\u001b[0;31m---------------------------------------------------------------------------\u001b[0m",
      "\u001b[0;31mNameError\u001b[0m                                 Traceback (most recent call last)",
      "Cell \u001b[0;32mIn [15], line 4\u001b[0m\n\u001b[1;32m      2\u001b[0m \u001b[38;5;66;03m# tries=0\u001b[39;00m\n\u001b[1;32m      3\u001b[0m people\u001b[38;5;241m=\u001b[39m[]\n\u001b[0;32m----> 4\u001b[0m \u001b[38;5;28;01mfor\u001b[39;00m a \u001b[38;5;129;01min\u001b[39;00m \u001b[43mlotto\u001b[49m:\n\u001b[1;32m      5\u001b[0m     \u001b[38;5;28;01mif\u001b[39;00m a[\u001b[38;5;241m0\u001b[39m] \u001b[38;5;129;01mnot\u001b[39;00m \u001b[38;5;129;01min\u001b[39;00m people:\n\u001b[1;32m      6\u001b[0m         people\u001b[38;5;241m.\u001b[39mappend(a[\u001b[38;5;241m0\u001b[39m])\n",
      "\u001b[0;31mNameError\u001b[0m: name 'lotto' is not defined"
     ]
    }
   ],
   "source": [
    "dang = []\n",
    "# tries=0\n",
    "people=[]\n",
    "for a in lotto:\n",
    "    if a[0] not in people:\n",
    "        people.append(a[0])\n",
    "# print(people)\n",
    "\n",
    "for p in people:\n",
    "    tries=1\n",
    "    for a in lotto:\n",
    "        if a[0]==p:\n",
    "            if a[1]==0:\n",
    "                tries+=1\n",
    "            elif a[1]==1:\n",
    "                dang.append([p, tries])\n",
    "                break\n",
    "            else:\n",
    "                break\n",
    "# print(dang)\n",
    "\n",
    "if len(dang)==0:\n",
    "    print(0)\n",
    "else: \n",
    "    answer = sum([b for a,b in dang])\n",
    "    print(int(answer/len(dang)))"
   ]
  },
  {
   "cell_type": "code",
   "execution_count": null,
   "id": "33351396",
   "metadata": {},
   "outputs": [],
   "source": []
  },
  {
   "cell_type": "code",
   "execution_count": null,
   "id": "a318a04a",
   "metadata": {},
   "outputs": [],
   "source": []
  },
  {
   "cell_type": "code",
   "execution_count": null,
   "id": "8de4a0f1",
   "metadata": {},
   "outputs": [],
   "source": []
  }
 ],
 "metadata": {
  "kernelspec": {
   "display_name": "Python 3 (ipykernel)",
   "language": "python",
   "name": "python3"
  },
  "language_info": {
   "codemirror_mode": {
    "name": "ipython",
    "version": 3
   },
   "file_extension": ".py",
   "mimetype": "text/x-python",
   "name": "python",
   "nbconvert_exporter": "python",
   "pygments_lexer": "ipython3",
   "version": "3.9.15"
  }
 },
 "nbformat": 4,
 "nbformat_minor": 5
}

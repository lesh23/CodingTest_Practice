{
 "cells": [
  {
   "cell_type": "code",
   "execution_count": 1,
   "id": "ab7412c8",
   "metadata": {},
   "outputs": [],
   "source": [
    "url = 'https://ko.wikipedia.org/wiki/%EB%8C%80%ED%95%9C%EB%AF%BC%EA%B5%AD%EC%9D%98_%EC%98%81%ED%99%94_%ED%9D%A5%ED%96%89_%EA%B8%B0%EB%A1%9D'"
   ]
  },
  {
   "cell_type": "code",
   "execution_count": null,
   "id": "e5d85023",
   "metadata": {},
   "outputs": [],
   "source": [
    "url2 = 'https://namu.wiki/w/%EB%B0%95%EC%8A%A4%EC%98%A4%ED%94%BC%EC%8A%A4'"
   ]
  },
  {
   "cell_type": "code",
   "execution_count": null,
   "id": "1bcc45d8",
   "metadata": {},
   "outputs": [],
   "source": [
    "req = requests.get(url2)\n",
    "req"
   ]
  },
  {
   "cell_type": "code",
   "execution_count": null,
   "id": "1bd235bc",
   "metadata": {},
   "outputs": [],
   "source": [
    "import requests\n",
    "from bs4 import BeautifulSoup\n",
    "import pandas as pd"
   ]
  },
  {
   "cell_type": "code",
   "execution_count": null,
   "id": "26bcb895",
   "metadata": {},
   "outputs": [],
   "source": [
    "request = requests.get(url)\n",
    "request"
   ]
  },
  {
   "cell_type": "code",
   "execution_count": null,
   "id": "c7952d17",
   "metadata": {},
   "outputs": [],
   "source": [
    "soup = BeautifulSoup(request.text, 'html.parser')\n",
    "soup"
   ]
  },
  {
   "cell_type": "code",
   "execution_count": null,
   "id": "882dea53",
   "metadata": {
    "scrolled": true
   },
   "outputs": [],
   "source": [
    "data = soup.find_all('table', {'class':'wikitable'})\n",
    "data"
   ]
  },
  {
   "cell_type": "code",
   "execution_count": null,
   "id": "9ba4fe7f",
   "metadata": {},
   "outputs": [],
   "source": [
    "import pandas as pd"
   ]
  },
  {
   "cell_type": "code",
   "execution_count": null,
   "id": "e96f8265",
   "metadata": {},
   "outputs": [],
   "source": [
    "header = []\n",
    "for i in data[0].find_all('th'):\n",
    "    header.append(i.text[:-1])\n",
    "header"
   ]
  },
  {
   "cell_type": "code",
   "execution_count": null,
   "id": "fdd8f864",
   "metadata": {
    "scrolled": true
   },
   "outputs": [],
   "source": [
    "movie_ranking = pd.DataFrame(columns = header)\n",
    "movie_ranking"
   ]
  },
  {
   "cell_type": "code",
   "execution_count": null,
   "id": "04bbf3e2",
   "metadata": {
    "scrolled": true
   },
   "outputs": [],
   "source": [
    "tmp=[]\n",
    "for i,x in enumerate(data[0].find_all('td')):\n",
    "    if i==0:\n",
    "        tmp.append(x.text[:-1])\n",
    "    elif i%7==0:\n",
    "        movie_ranking.loc[i]=tmp\n",
    "        tmp=[]\n",
    "        tmp.append(x.text[:-1])\n",
    "    else:    \n",
    "        tmp.append(x.text[:-1])\n",
    "\n",
    "    \n",
    "movie_ranking"
   ]
  },
  {
   "cell_type": "code",
   "execution_count": null,
   "id": "a28c51f1",
   "metadata": {},
   "outputs": [],
   "source": []
  },
  {
   "cell_type": "code",
   "execution_count": null,
   "id": "b3d43a50",
   "metadata": {},
   "outputs": [],
   "source": []
  },
  {
   "cell_type": "code",
   "execution_count": null,
   "id": "4516cbd9",
   "metadata": {},
   "outputs": [],
   "source": [
    "# - 생각해 볼 문제 - 카드사 포인트\n",
    "# - [[신규고객],[추천인]]\n",
    "# - 추천인에게 p 포인트 카드 포인트 부여\n",
    "# - c의 추천인은 b : b에게 p포인트 → b의 추천인은 a : a에게 b가 받은 p 포인트의 10% 적립 : a에게 p*0.1포인트 적립\n",
    "# - 즉, 점점 밑으로 갈수록 0.1포인트씩 적립\n",
    "# members = [[’a’,’-’],[’b’,’a’],[’c’,’b’],[’d’,’b’],[’e’,’-’],[’f’,’d’]]\n",
    "# p = 123\n",
    "    \n",
    "#     answer = [[’b’,200],[’a’,125],[’c’,100],[’f’,0]]"
   ]
  },
  {
   "cell_type": "code",
   "execution_count": null,
   "id": "7bc6e7de",
   "metadata": {},
   "outputs": [],
   "source": [
    "members = [['a','-'],['b','a'],['c','b'],['d','b'],['e','-'],['f','d'], ['g','f']]\n",
    "p = 100\n",
    "answer = [['b',200],['a',125],['c',100],['f',0]]\n",
    "\n",
    "rate=0.1"
   ]
  },
  {
   "cell_type": "code",
   "execution_count": null,
   "id": "1c07b527",
   "metadata": {},
   "outputs": [],
   "source": [
    "recc = {}\n",
    "for m in members:\n",
    "    print(m)\n",
    "    if m[1] in recc:\n",
    "        recc[m[1]] = [recc[m[1]][0],m[0]]\n",
    "        print(recc)\n",
    "    else:\n",
    "        recc[m[1]]=[m[0]]\n",
    "    \n",
    "\n",
    "recc"
   ]
  },
  {
   "cell_type": "code",
   "execution_count": null,
   "id": "4fbcf51a",
   "metadata": {},
   "outputs": [],
   "source": [
    "for i,(k,v) in enumerate(recc.items()):\n",
    "    print(i,k,v)"
   ]
  },
  {
   "cell_type": "code",
   "execution_count": null,
   "id": "88d2b4e3",
   "metadata": {},
   "outputs": [],
   "source": [
    "points={}\n",
    "for k,v in recc.items():\n",
    "    if k!='-':\n",
    "#         points.append([k, 100*len(v)])\n",
    "        points[k]=100*len(v)\n",
    "points"
   ]
  },
  {
   "cell_type": "code",
   "execution_count": null,
   "id": "10e910e2",
   "metadata": {
    "scrolled": true
   },
   "outputs": [],
   "source": [
    "points={}\n",
    "count=1\n",
    "for k,v in recc.items():\n",
    "    if k!='-':\n",
    "#         points.append([k, 100*len(v)])\n",
    "        points[k]=100*len(v)\n",
    "    \n",
    "for i, (k,v) in enumerate(recc.items()):\n",
    "#     if a value of a key is a key in the dict\n",
    "\n",
    "    if k!='-':\n",
    "        print(k, v)\n",
    "        while True:\n",
    "            for u in v:\n",
    "                if u in recc:\n",
    "                    count=count*10\n",
    "                    points[k] += points[k]+(p/count)\n",
    "                    print(u, 'is in recc!!')\n",
    "            break\n",
    "#         for i in range(len(recc)):\n",
    "#             for u in v:\n",
    "#                 print(u, v)\n",
    "#                 if u in recc:\n",
    "#                     points[k] += points[k]*rate\n",
    "#                     print(u,'exists!')\n",
    "#                     break\n",
    "                \n",
    "print(count, points)"
   ]
  },
  {
   "cell_type": "code",
   "execution_count": null,
   "id": "f2e6246d",
   "metadata": {},
   "outputs": [],
   "source": []
  },
  {
   "cell_type": "code",
   "execution_count": null,
   "id": "f30c726f",
   "metadata": {},
   "outputs": [],
   "source": []
  },
  {
   "cell_type": "code",
   "execution_count": null,
   "id": "adc1311f",
   "metadata": {},
   "outputs": [],
   "source": [
    "s = \"{(})\""
   ]
  },
  {
   "cell_type": "code",
   "execution_count": null,
   "id": "b9e32ac4",
   "metadata": {},
   "outputs": [],
   "source": [
    "def solution(s):\n",
    "    answer = len(s)\n",
    "    match={'(':')', '[':']', '{':'}' }\n",
    "    for i in range(len(s)):\n",
    "        tmp=[]\n",
    "        print(s)\n",
    "        for i, p in enumerate(s):\n",
    "            # 첫 괄호가 닫힘 괄호면 break\n",
    "            if i==0 and p in match.values():\n",
    "                print('First is closing p', p, answer)\n",
    "                answer-=1\n",
    "                break\n",
    "                \n",
    "            # 다음 읽는 괄호가 닫힘 괄호가 아니면, tmp에 넣자\n",
    "            elif p in match.keys():\n",
    "                print('Appending open p', p)\n",
    "                tmp.append(p)\n",
    "                print('tmp is ', tmp)\n",
    "                \n",
    "            # 다음 읽는 괄호가 닫힘 괄호면, tmp마지막에 들어간거랑 짝이면 pop\n",
    "            elif p in match.values():\n",
    "                print('p is closing', p)\n",
    "                # if tmp is already empty, but a new closing is read\n",
    "                if len(tmp)==0:\n",
    "                    print('there are no existing open p to pair with', answer)\n",
    "                    answer-=1\n",
    "                    break\n",
    "                # if p not in tmp? break\n",
    "                elif p not in [match[t] for t in tmp]:\n",
    "                    print('p pair doesn\\'t exist in tmp', answer)\n",
    "                    answer-=1\n",
    "                    break\n",
    "                elif p==match[tmp[-1]]:\n",
    "                    print('closing matching last open in tmp! popping', tmp[-1],'!')\n",
    "                    print(p, tmp, match[tmp[-1]])\n",
    "                    tmp.pop()\n",
    "                else:\n",
    "                    answer-=1\n",
    "                    break\n",
    "                    \n",
    "            # 마지막 까지 읽었는데 tmp가 아직 풀일 때\n",
    "            if i==len(s)-1 and len(tmp)!=0:\n",
    "                print('tmp is still not empty!')\n",
    "                answer-=1\n",
    "                break\n",
    "        # if len(tmp)==0:   #### problem: the tmp list starts empty. if nothing happens, it'll still go to this checkpoint making answer++\n",
    "#         answer+=1\n",
    "        \n",
    "        print('!!!!!!!!!Next string!!!!!!!!!!!')\n",
    "        s+=s[0]\n",
    "        s=s[1:]\n",
    "                \n",
    "                \n",
    "            \n",
    "    return answerb\n",
    "\n",
    "solution(s)"
   ]
  },
  {
   "cell_type": "code",
   "execution_count": null,
   "id": "d4507d47",
   "metadata": {},
   "outputs": [],
   "source": [
    "def solution(arr):\n",
    "    answer = 0\n",
    "    while True:\n",
    "        print(arr)\n",
    "        new_arr=[]\n",
    "        answer+=1\n",
    "        for a in arr:\n",
    "            if a >= 50 and a%2==0:\n",
    "                print('first')\n",
    "                a=a/2\n",
    "                new_arr.append(a)\n",
    "            elif a<50 and a%2!=0:\n",
    "                print('second')\n",
    "                a=(a*2)+1\n",
    "                new_arr.append(a)\n",
    "            else:\n",
    "                print('third')\n",
    "                new_arr.append(a)\n",
    "        if arr == new_arr:\n",
    "            print('break')\n",
    "            break\n",
    "        arr=new_arr\n",
    "        \n",
    "    return answer"
   ]
  },
  {
   "cell_type": "code",
   "execution_count": null,
   "id": "e74178d2",
   "metadata": {
    "scrolled": true
   },
   "outputs": [],
   "source": [
    "arr=[1, 2, 3, 100, 99, 98]\n",
    "solution(arr)"
   ]
  },
  {
   "cell_type": "code",
   "execution_count": null,
   "id": "0f488a88",
   "metadata": {},
   "outputs": [],
   "source": [
    "def solution(arr1, arr2):\n",
    "#     answer = [[0]*len(arr2)]*len(arr1)\n",
    "    answer = [[0]*len(arr2[0]) for m in range(len(arr1))]\n",
    "    print(answer)\n",
    "    for i in range(len(arr1)): \n",
    "        for j in range(len(arr2[0])): \n",
    "            for k in range(len(arr1[0])): \n",
    "                answer[i][j] += arr1[i][k] * arr2[k][j]\n",
    "    return answer\n",
    "\n",
    "\n",
    "arr1 = [[2, 3, 2], [4, 2, 4], [3, 1, 4]]\n",
    "arr2= [[5, 4, 3], [2, 4, 1], [3, 1, 1]]\n",
    "# [[22, 22, 11], [36, 28, 18], [29, 20, 14]]\n",
    "\n",
    "solution(arr1, arr2)"
   ]
  },
  {
   "cell_type": "code",
   "execution_count": null,
   "id": "08252e8b",
   "metadata": {},
   "outputs": [],
   "source": [
    "import numpy as np\n",
    "def solution(arr1, arr2):\n",
    "    arr1 = np.array(arr1)\n",
    "    arr2 = np.array(arr2)\n",
    "    answer = np.dot(arr1,arr2)\n",
    "    return answer.tolist()\n",
    "\n",
    "solution(arr1, arr2)"
   ]
  },
  {
   "cell_type": "code",
   "execution_count": null,
   "id": "fd784fa3",
   "metadata": {
    "scrolled": true
   },
   "outputs": [],
   "source": [
    "import itertools\n",
    "lists = [[-1,-2,2,1],[4,2,4,-3,-1],[1,2,1,2]]\n",
    "score = 0\n",
    "for l in lists:\n",
    "    print(l)\n",
    "    if len(l)%2==0: # even\n",
    "        pass\n",
    "#         for i in range(1,len(l)):\n",
    "#             left=l[:i]\n",
    "#             right=l[i:]\n",
    "#             if sum(left)==sum(right):\n",
    "#                 print(left,right, 'equal')\n",
    "#                 score+=1\n",
    "#             else:\n",
    "#                 print(left,right, 'diff')\n",
    "    else:\n",
    "        for i in range(1,len(l)):\n",
    "            left=l[:i]\n",
    "            right=l[i:]\n",
    "            if sum(left)==sum(right):\n",
    "                print(left,right, 'equal')\n",
    "                score+=1\n",
    "            else:\n",
    "                print(left,right, 'diff')\n",
    "                tl = left[:]\n",
    "                tr = right[:]\n",
    "                if len(tr)>len(tl):\n",
    "                    for lr in range(len(tr)):\n",
    "                        for ll in range(len(tl)):\n",
    "#                             print(ll, right[ll], left[ll])\n",
    "                            if tr[lr]!=tl[ll]:\n",
    "                                tmp = tl[ll]\n",
    "                                tl[ll]=tr[lr]\n",
    "                                tr[lr]=tmp\n",
    "                                print('swap', tl, tr, sum(tl), sum(tr))\n",
    "                                if sum(tl)==sum(tr):\n",
    "                                    print(tl,tr, 'equal')\n",
    "                                    score+=1\n",
    "                else:\n",
    "                    for ll in range(len(tl)):\n",
    "                        for lr in range(len(tr)):\n",
    "#                             print(ll, right[ll], left[ll])\n",
    "                            if tr[lr]!=tl[ll]:\n",
    "                                tmp = tl[ll]\n",
    "                                tl[ll]=tr[lr]\n",
    "                                tr[lr]=tmp\n",
    "                                print('swap', tl, tr, sum(tl), sum(tr))\n",
    "                                if sum(tl)==sum(tr):\n",
    "                                    print(tl,tr, 'equal')\n",
    "                                    score+=1\n",
    "                \n",
    "    print(score)\n",
    "            \n",
    "        \n"
   ]
  },
  {
   "cell_type": "code",
   "execution_count": null,
   "id": "f565fdcf",
   "metadata": {},
   "outputs": [],
   "source": [
    "# zz = [4,2,4,-3,-1]\n",
    "score=0\n",
    "for l in lists:\n",
    "    for p in itertools.permutations(l):\n",
    "        perm = [x for x in p]\n",
    "        half = len(perm)//2\n",
    "        left = perm[0:half]\n",
    "        right = perm[half:]\n",
    "        print(left,right)\n",
    "        if sum(left)==sum(right):\n",
    "            score+=1\n",
    "            print(score)\n",
    "        else:\n",
    "            pass\n",
    "            print('passing')\n",
    "#         print(left, right)\n",
    "print(score)"
   ]
  },
  {
   "cell_type": "code",
   "execution_count": null,
   "id": "55ab4b50",
   "metadata": {},
   "outputs": [],
   "source": [
    "lists = [[-1,-2,2,1],[4,2,4,-3,-1],[1,2,1,2]]\n",
    "\n",
    "def mian():\n",
    "    for li in lists:\n",
    "        score = 0\n",
    "        for i in range(1,len(li)):\n",
    "            left = li[:i]\n",
    "            right = li[i:]\n",
    "            checkEqual(left, right)\n",
    "        print(score)\n",
    "        \n",
    "\n",
    "# def Counter(score):\n",
    "#     score += 1\n",
    "#     print(score)\n",
    "\n",
    "def swapPlaces(left, right):\n",
    "#     lenL = len(left)\n",
    "#     lenR = len(right)\n",
    "    \n",
    "    for j, _ in enumerate(left):\n",
    "        for i, _ in enumerate(right):\n",
    "            tmpL = left[:]\n",
    "            tmpR = right[:]\n",
    "\n",
    "            tmp = left[j]\n",
    "\n",
    "            tmpL[j]=right[i]\n",
    "\n",
    "            tmpR[i]=tmp\n",
    "\n",
    "#             print('new left right (tmp)', tmpL, tmpR)\n",
    "            if sum(tmpL)==sum(tmpR):\n",
    "#                 print('LEFT AND RIGHT SAME')\n",
    "                Counter(score)\n",
    "#     print(count)\n",
    "#     return count\n",
    "\n",
    "    \n",
    "\n",
    "def checkEqual(left, right):\n",
    "#     print('original', left, right)\n",
    "    if sum(left)==sum(right):\n",
    "#         print('Left and right are equal!')\n",
    "        Counter(score)\n",
    "    else:\n",
    "        swapPlaces(left, right)"
   ]
  },
  {
   "cell_type": "markdown",
   "id": "30413406",
   "metadata": {},
   "source": [
    "# 코테 문제 1 풀이\n",
    "[-1,-2] [2,1] 쪼개서 합이 같으면 +1\n",
    "\n",
    "[–1/-2 2 1] [-1 –2 2/1] 배열 모두 길이가 0보다 커야함\n",
    "\n",
    "합이 같지 않으면 하나씩 자리 교환, 자리는 위치랑, 값 모두 다른 것만 바꿀 수 있음\n",
    "\n",
    "자리 교환은 한쌍만\n",
    "바꿔서 배열의 합이 같으면 +1"
   ]
  },
  {
   "cell_type": "code",
   "execution_count": null,
   "id": "5a2cc9a7",
   "metadata": {
    "scrolled": true
   },
   "outputs": [],
   "source": [
    "from math import comb\n",
    "\n",
    "lists = [[-1,-2,2,1],[4,2,4,-3,-1],[1,2,1,2]]\n",
    "\n",
    "for li in lists:\n",
    "    score = 0\n",
    "    for i in range(1,len(li)):\n",
    "        left = li[:i]\n",
    "        right = li[i:]\n",
    "        print(li, left, right)\n",
    "        if sum(left)==sum(right):\n",
    "            score+=1\n",
    "            score+=(comb(len(left),1)-1)+(comb(len(right),1)-1)\n",
    "                    \n",
    "                \n",
    "        else:\n",
    "            for j, _ in enumerate(left):\n",
    "                for i, _ in enumerate(right):\n",
    "                    tmpL = left[:]\n",
    "                    tmpR = right[:]\n",
    "\n",
    "                    tmp = left[j]\n",
    "\n",
    "                    tmpL[j]=right[i]\n",
    "\n",
    "                    tmpR[i]=tmp\n",
    "\n",
    "                    if sum(tmpL)==sum(tmpR):\n",
    "                        score+=1\n",
    "#                       \n",
    "                                \n",
    "    print(score)"
   ]
  },
  {
   "cell_type": "markdown",
   "id": "6874b525",
   "metadata": {},
   "source": [
    "# 코테 문제 2 풀이\n",
    "\n",
    "    # k개 이상, 연속으로 고정지출\n",
    "\n",
    "    # 마지막달이 1월이면 전년도 12월 11월도 고려해야함\n",
    "\n",
    "    # 마지막 달은 무조건 포함\n",
    "\n",
    "    # 형식 2022.10.03 4000\n",
    "\n",
    "    # 답: [[1,15000],[5,5000]]"
   ]
  },
  {
   "cell_type": "code",
   "execution_count": null,
   "id": "2f95cab3",
   "metadata": {},
   "outputs": [],
   "source": [
    "k=3\n",
    "data = [\"2022.01.03 6000\",\n",
    "\"2022.01.05 5000\",\n",
    "\"2022.01.07 10000\",\n",
    "\"2022.01.20 50000\",\n",
    "\"2022.01.22 7000\",\n",
    "\"2022.02.01 15000\",\n",
    "\"2022.02.03 6000\",\n",
    "\"2022.02.05 5000\",\n",
    "\"2022.02.20 50000\",\n",
    "\"2022.03.01 15000\",\n",
    "\"2022.03.05 5000\",\n",
    "\"2022.03.08 10000\",\n",
    "\"2022.03.20 45000\",\n",
    "\"2022.04.01 15000\",\n",
    "\"2022.04.03 6000\", #changed from 03 to 02\n",
    "\"2022.04.05 5000\",\n",
    "\"2022.04.10 10500\"]"
   ]
  },
  {
   "cell_type": "code",
   "execution_count": null,
   "id": "9e3b8c53",
   "metadata": {},
   "outputs": [],
   "source": [
    "arr = [[int(d.split()[0][-2:]), int(d.split()[1])] for d in data]\n",
    "answer=[]\n",
    "for a in arr:\n",
    "    if arr.count(a)>=k and a not in answer:\n",
    "        answer.append(a)\n",
    "#     print(a, arr.count(a))\n",
    "\n",
    "answer"
   ]
  },
  {
   "cell_type": "markdown",
   "id": "78aae464",
   "metadata": {},
   "source": [
    "# 코테 문제 3\n",
    "- [[신규고객],[추천인]]\n",
    "- 추천인에게 p 포인트 카드 포인트 부여\n",
    "- c의 추천인은 b : b에게 p포인트 → b의 추천인은 a : a에게 b가 받은 p 포인트의 10% 적립 : a에게 p*0.1포인트 적립\n",
    "- 즉, 점점 밑으로 갈수록 0.1포인트씩 적립\n",
    "(case1) members = [[’a’,’-’],[’b’,’a’],[’c’,’b’],[’d’,’b’],[’e’,’-’],[’f’,’d’]]\n",
    "p = 123\n",
    "\n",
    "answer = [[’b’,200],[’a’,125],[’c’,100],[’f’,0]]\n",
    "\n",
    "(case2) members = [[’a’,’-’],[’b’,’a’],[’c’,’b’],[’d’,’c’],[’e’,’d’],[’f’,’e’]]\n",
    "\n",
    "p = 100"
   ]
  },
  {
   "cell_type": "code",
   "execution_count": 48,
   "id": "4e93d351",
   "metadata": {},
   "outputs": [],
   "source": [
    "members = [['a','-'],['b','a'],['c','b'],['d','c'],['e','d'],['f','e']]\n",
    "\n",
    "p = 100"
   ]
  },
  {
   "cell_type": "code",
   "execution_count": 47,
   "id": "a541c3ac",
   "metadata": {},
   "outputs": [],
   "source": [
    "# members = [['a','-'],['b','a'],['c','b'],['d','b'],['e','-'],['f','d']]\n",
    "# p = 123"
   ]
  },
  {
   "cell_type": "code",
   "execution_count": 49,
   "id": "fc0551ee",
   "metadata": {
    "scrolled": false
   },
   "outputs": [
    {
     "name": "stdout",
     "output_type": "stream",
     "text": [
      "[['a', 111.11], ['b', 111.1], ['c', 111.0], ['d', 110.0], ['e', 100]]\n"
     ]
    }
   ],
   "source": [
    "# def getRecc(m,count, p, dic):\n",
    "def getRecc(m,p,dic):\n",
    "    for x in members:\n",
    "#         print(x[0], x[1])\n",
    "        if x[0]==m and x[1]=='-':\n",
    "            return x[1]\n",
    "        elif x[0]==m and x[1]!='-':\n",
    "#             count.append(p)\n",
    "#             print(dic, count)\n",
    "            dic[x[1]] += p\n",
    "            p=p*0.1\n",
    "#             return getRecc(x[1],count, p, dic)\n",
    "            return getRecc(x[1],p,dic)\n",
    "        \n",
    "def main(members, p):\n",
    "    points = [[m[0], 0] for m in members]\n",
    "    dic = {}\n",
    "    for pt in points:\n",
    "        dic[pt[0]] = 0\n",
    "    for m in members:\n",
    "#         count = []\n",
    "#         recc = getRecc(m[0],count,p, dic)\n",
    "        recc = getRecc(m[0],p, dic)\n",
    "#         print(m, count, recc)\n",
    "#         print(points)\n",
    "        \n",
    "#         print(m[0],'\\'s 추천인 is', recc)\n",
    "    answer=[]\n",
    "    for k,v in dic.items():\n",
    "        if v != 0:\n",
    "            answer.append([k, v])\n",
    "#         print(k,v)\n",
    "    print(answer)\n",
    "main(members, p)"
   ]
  },
  {
   "cell_type": "markdown",
   "id": "78e1459c",
   "metadata": {},
   "source": [
    "# 코테 문제 4\n",
    "로또\n",
    "[[1,0],[1,0],[3,0],[100,1],[3,0],[3,1],[1,1],[1,1]]\n",
    "0은 당첨 X , 1이 당첨\n",
    "\n",
    "무조건 최초 당첨만 생각\n",
    "\n",
    "1번 사람 3번만에\n",
    "3번 사람 3번만에 \n",
    "100번 사람 1번\n",
    "평균 (3+3+1)/3 정수로\n",
    "\n",
    "[[1,0],[2,0],[3,0]]\n",
    "평균 0번"
   ]
  },
  {
   "cell_type": "code",
   "execution_count": 51,
   "id": "9df3a2d4",
   "metadata": {},
   "outputs": [],
   "source": [
    "lotto= [[1,0],[1,0],[3,0],[100,1],[3,0],[3,1],[1,1],[1,1]]\n",
    "# lotto= [[1,0],[2,0],[3,1]] "
   ]
  },
  {
   "cell_type": "code",
   "execution_count": 53,
   "id": "2ae4852f",
   "metadata": {},
   "outputs": [
    {
     "name": "stdout",
     "output_type": "stream",
     "text": [
      "2\n"
     ]
    }
   ],
   "source": [
    "dang = []\n",
    "# tries=0\n",
    "people=[]\n",
    "for a in lotto:\n",
    "    if a[0] not in people:\n",
    "        people.append(a[0])\n",
    "# print(people)\n",
    "\n",
    "for p in people:\n",
    "    tries=1\n",
    "    for a in lotto:\n",
    "        if a[0]==p:\n",
    "            if a[1]==0:\n",
    "                tries+=1\n",
    "            elif a[1]==1:\n",
    "                dang.append([p, tries])\n",
    "                break\n",
    "            else:\n",
    "                break\n",
    "# print(dang)\n",
    "\n",
    "if len(dang)==0:\n",
    "    print(0)\n",
    "else: \n",
    "    answer = sum([b for a,b in dang])\n",
    "    print(int(answer/len(dang)))"
   ]
  },
  {
   "cell_type": "markdown",
   "id": "d3d88db1",
   "metadata": {},
   "source": [
    "# 코테 문제 5\n",
    "기숙사 배정 순서 : 학점 > 집 > 이름 순\n",
    "\n",
    "[[이름],[집 제곱의 합],[학점]]\n",
    "\n",
    "[[\"sg\",\"sh\",\"hj\",\"Judy\",\"Lucy\"],\n",
    "\n",
    "[[3,-1],[2,1],[1,5],[1,3],[2,2]],\n",
    "\n",
    "[3.67,4.16,4.2,3.4,3.2]]\n",
    "\n",
    "학점 순서대로 근데 소수점 버림 [3,4,4,3,3] -> sh,hj이 1순위\n",
    "집 먼 순서대로 : 제곱의 합 [10,5,26,10,8] -> hj 1순위, sh 2순위\n",
    "이름은 사전 순서대로 -> sg,Judy는 학점도 같고 거리도 같으니 이름이 앞에 있는 Judy먼저\n",
    "hj 1/ sh 2/ Judy 3/ sg 4/ Lucy 5\n",
    "\n",
    "결과: [4,2,1,3,5]"
   ]
  },
  {
   "cell_type": "markdown",
   "id": "bfe6f088",
   "metadata": {},
   "source": [
    "data = [['승지','승현','호준','쥬디','루시'],[[3,-1],[2,1],[1,5],[1,3],[2,2]], [3.67, 4.16, 4.2, 3.4, 3.2]]\n",
    "data\n",
    "print(dist([0,0],[3,-1]))"
   ]
  },
  {
   "cell_type": "markdown",
   "id": "afc2cfab",
   "metadata": {},
   "source": [
    "data = [['승지','승현','호준','쥬디','루시'],[[3,-1],[2,1],[1,5],[1,3],[2,2]], [3.67, 4.16, 4.2, 3.4, 3.2]]\n",
    "dic = {'승지':0, '승현':0, '호준':0, '쥬디':0, '루시':0}\n",
    "\n",
    "def distance(x):\n",
    "    distance = ((0 - 0)**2 + (x[0] - x2)**2)**0.5\n",
    "def dataPrep(data):\n",
    "    data[-1] = [int(x) for x in data[-1]]\n",
    "    data[1] = [dist([0,0], y) for y in data[1]]\n",
    "    print(data)\n",
    "    \n",
    "# def newData(data,order):\n",
    "# #     print(order)\n",
    "#     data = [[d[o] for o in order] for d in data]\n",
    "# #     data[0] = [data[0][o] for o in order]\n",
    "# #     data[1] = [data[1][o] for o in order]\n",
    "# #     data[2] = [data[2][o] for o in order]\n",
    "# #     print(data)\n",
    "#     return data\n",
    "    \n",
    "# #     for o in order:\n",
    "# #         print(data[0][o])\n",
    "        \n",
    "    \n",
    "    \n",
    "    \n",
    "def getOrder(data):\n",
    "#     order1=sorted(range(len(data[2])), key=lambda k: data[2][k], reverse=True)\n",
    "    order1 = [sorted(data[2],reverse=True).index(d) for d in data[2]]\n",
    "    order1 = [x/len(data[2]) for x in order1]\n",
    "#     print(order1/len(data[2]))\n",
    "#     data1 = newData(data, order1)\n",
    "#     order2=sorted(range(len(data[1])), key=lambda k: data[1][k], reverse=True)\n",
    "    order2 = [sorted(data[1],reverse=True).index(d) for d in data[1]]\n",
    "    order2 = [x/len(data[1]) for x in order2]\n",
    "#     data2 = newData(data1, order2)\n",
    "    order3=[i for i, d in enumerate(data[0])]\n",
    "    print(order1, order2, order3)\n",
    "    \n",
    "    for i in range(len(order1)):\n",
    "        order1[i] += order2[i] + order3[i]\n",
    "    \n",
    "    print(order1)\n",
    "        \n",
    "# def getRanks(data):\n",
    "#     print(data[2])\n",
    "    \n",
    "def main(data):\n",
    "    dataPrep(data)\n",
    "    getOrder(data)\n",
    "#     getRanks(data)\n",
    "    print(dic)\n",
    "          \n",
    "main(data)\n",
    "# 쥬디, 승현, 승지, 호준,루시"
   ]
  },
  {
   "cell_type": "markdown",
   "id": "3a4fa397",
   "metadata": {},
   "source": [
    "\n"
   ]
  },
  {
   "cell_type": "code",
   "execution_count": null,
   "id": "9a3ba1e4",
   "metadata": {},
   "outputs": [],
   "source": []
  },
  {
   "cell_type": "code",
   "execution_count": 192,
   "id": "ccf4c456",
   "metadata": {
    "scrolled": true
   },
   "outputs": [
    {
     "name": "stdout",
     "output_type": "stream",
     "text": [
      "[0.0, 0.6, 0.6, 0.0, 0.0] [0.4, 0.0, 0.8, 0.4, 0.2] [0.8, 0.6, 0.4, 0.2, 0.0]\n",
      "[1, 2, 0, 3, 4]\n",
      "['승현', '호준', '승지', '쥬디', '루시']\n"
     ]
    }
   ],
   "source": [
    "data = [['승지','승현','호준','쥬디','루시'],[[3,-1],[2,1],[1,5],[1,3],[2,2]], [3.67, 4.16, 4.2, 3.4, 3.2]]\n",
    "\n",
    "def dist(x):\n",
    "    distance = ((0 - x[0])**2 + (0 - x[1])**2)**0.5\n",
    "    return distance\n",
    "\n",
    "def dataPrep(data):\n",
    "    data[2] = [int(x) for x in data[2]]\n",
    "    data[1] = [dist(y) for y in data[1]]\n",
    "#     print(data) \n",
    "    \n",
    "def getOrder(data):\n",
    "    order1 = [sorted(data[2],reverse=False).index(d) for d in data[2]]\n",
    "    order1 = [x/len(data[2]) for x in order1]\n",
    "    \n",
    "    order2 = [sorted(data[1],reverse=False).index(d) for d in data[1]]\n",
    "    order2 = [x/len(data[1]) for x in order2]\n",
    "\n",
    "    order3=[i/len(data[1]) for i, d in enumerate(data[0])][::-1]\n",
    "#     print(order1, order2, order3)\n",
    "    \n",
    "    for i in range(len(order1)):\n",
    "        order1[i] += order2[i] + order3[i]\n",
    "        \n",
    "    finalOrder = [sorted(order1,reverse=True).index(d) for d in order1]\n",
    "    print(finalOrder)\n",
    "    answer=[]\n",
    "    for f in finalOrder:\n",
    "        answer.append(data[0][f])\n",
    "    print(answer)\n",
    "\n",
    "def main(data):\n",
    "    dataPrep(data)\n",
    "    getOrder(data)\n",
    "main(data)"
   ]
  },
  {
   "cell_type": "code",
   "execution_count": null,
   "id": "d850df34",
   "metadata": {},
   "outputs": [],
   "source": []
  },
  {
   "cell_type": "markdown",
   "id": "de01b903",
   "metadata": {},
   "source": [
    "# 코테 문제 6\n",
    "\n",
    "def solution(k,arr)\n",
    "k: 5 / arr=[[1,2],[2,3],[4,5]]\n",
    "\n",
    "1-2-3 4-5"
   ]
  },
  {
   "cell_type": "code",
   "execution_count": 276,
   "id": "54fa99bb",
   "metadata": {},
   "outputs": [
    {
     "name": "stdout",
     "output_type": "stream",
     "text": [
      "[1, 2, 3]\n",
      "[4, 5]\n"
     ]
    }
   ],
   "source": [
    "from itertools import permutations\n",
    "k=5\n",
    "arr = [[1,2],[2,3],[4,5]]\n",
    "\n",
    "def check(dic, root):\n",
    "    stack = [root]\n",
    "    seen = {root}\n",
    "    visited = []\n",
    "    while stack:\n",
    "        curr = stack.pop()\n",
    "        visited.append(curr)\n",
    "        next_nodes = list(filter(lambda x: x not in seen, dic[curr]))\n",
    "        stack.extend(next_nodes)\n",
    "        seen.update(next_nodes)\n",
    "        \n",
    "    return visited\n",
    "    \n",
    "    \n",
    "\n",
    "def solution(k, arr):\n",
    "    dic = {}\n",
    "    for i in range(1,k+1):\n",
    "        dic[i]=[]\n",
    "    for a,b in arr:\n",
    "        dic[a].append(b)\n",
    "        \n",
    "    nodes=check(dic, 1)\n",
    "    print(nodes)\n",
    "    permNode=[]\n",
    "    for p in permutations(nodes,2):\n",
    "        permNode.append(list(p))\n",
    "    \n",
    "    permArr=[]\n",
    "    for p in permutations([1+x for x in range(k)],2):\n",
    "        permArr.append(list(p))\n",
    "        \n",
    "    for a in arr:\n",
    "        if a not in permNode:\n",
    "            print(a)\n",
    "        \n",
    "    \n",
    "solution(k,arr)"
   ]
  }
 ],
 "metadata": {
  "kernelspec": {
   "display_name": "Python 3 (ipykernel)",
   "language": "python",
   "name": "python3"
  },
  "language_info": {
   "codemirror_mode": {
    "name": "ipython",
    "version": 3
   },
   "file_extension": ".py",
   "mimetype": "text/x-python",
   "name": "python",
   "nbconvert_exporter": "python",
   "pygments_lexer": "ipython3",
   "version": "3.9.15"
  }
 },
 "nbformat": 4,
 "nbformat_minor": 5
}

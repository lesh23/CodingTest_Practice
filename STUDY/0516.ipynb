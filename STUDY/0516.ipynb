{
 "cells": [
  {
   "cell_type": "code",
   "execution_count": 3,
   "metadata": {},
   "outputs": [
    {
     "name": "stdout",
     "output_type": "stream",
     "text": [
      "[1, 3, 9, 27]\n",
      "40\n"
     ]
    }
   ],
   "source": [
    "# 코드 한줄쓰기\n",
    "# y로 리스트 만들기 / if 뒤에는 y 조건\n",
    "n = 27\n",
    "b = [y for y in range(n+1) if y!=0 and n%y==0]\n",
    "print(b)\n",
    "\n",
    "# sum하기\n",
    "c = sum(y for y in range(n+1) if y!=0 and n%y==0)\n",
    "print(c)"
   ]
  },
  {
   "cell_type": "code",
   "execution_count": null,
   "metadata": {},
   "outputs": [],
   "source": [
    "def solution(num):\n",
    "#     if num%2 == 0:\n",
    "#         answer = \"Even\"\n",
    "#     else: answer = \"Odd\"\n",
    "    \n",
    "    answer = lambda x: \"Even\" if x%2==0 else \"Odd\"\n",
    "    return answer(num)"
   ]
  },
  {
   "cell_type": "code",
   "execution_count": 4,
   "metadata": {},
   "outputs": [],
   "source": [
    "# 함수 람다 연습\n",
    "def add(x,y):\n",
    "    return x+y\n",
    "c = add(5,3)\n",
    "print(c)\n",
    "d=lambda x, y: x+y\n",
    "print(d(5,3))\n"
   ]
  },
  {
   "cell_type": "code",
   "execution_count": 11,
   "metadata": {},
   "outputs": [],
   "source": [
    "a = list(map(str, input().split()))\n"
   ]
  },
  {
   "cell_type": "code",
   "execution_count": 17,
   "metadata": {},
   "outputs": [
    {
     "name": "stdout",
     "output_type": "stream",
     "text": [
      "사과\n",
      "바나나\n",
      "키위\n"
     ]
    }
   ],
   "source": [
    "i = ['사과', '바나나', '키위']\n",
    "for j, n in enumerate(i):\n",
    "    print(n)"
   ]
  },
  {
   "cell_type": "code",
   "execution_count": 23,
   "metadata": {},
   "outputs": [
    {
     "name": "stdout",
     "output_type": "stream",
     "text": [
      "0 1\n",
      "1 2\n",
      "2 3\n"
     ]
    },
    {
     "data": {
      "text/plain": [
       "6"
      ]
     },
     "execution_count": 23,
     "metadata": {},
     "output_type": "execute_result"
    }
   ],
   "source": [
    "# enumerate 연습\n",
    "n = 123\n",
    "answer = sum(int(y) for x,y in enumerate(str(n)))\n",
    "\n",
    "for x,y in enumerate(str(n)):\n",
    "    print(x, y)\n",
    "    \n",
    "answer"
   ]
  },
  {
   "cell_type": "code",
   "execution_count": 22,
   "metadata": {},
   "outputs": [
    {
     "name": "stdout",
     "output_type": "stream",
     "text": [
      "1\n",
      "2\n",
      "3\n"
     ]
    }
   ],
   "source": [
    "# map 이용\n",
    "a = sum(list(map(int, str(n))))"
   ]
  },
  {
   "cell_type": "code",
   "execution_count": 26,
   "metadata": {},
   "outputs": [
    {
     "data": {
      "text/plain": [
       "6"
      ]
     },
     "execution_count": 26,
     "metadata": {},
     "output_type": "execute_result"
    }
   ],
   "source": [
    "n = 123\n",
    "answer = sum(int(i) for i in str(n))\n",
    "answer"
   ]
  },
  {
   "cell_type": "code",
   "execution_count": 27,
   "metadata": {},
   "outputs": [
    {
     "name": "stdout",
     "output_type": "stream",
     "text": [
      "[1, 2, 3, 4]\n"
     ]
    }
   ],
   "source": [
    "s=\"1 2 3 4\"\n",
    "# w = [int(x) for x in s.split(\", \")]\n",
    "ww = str(min([int(x) for x in s.split(\" \")]))+\" \"+str(max([int(x) for x in s.split(\" \")]))\n",
    "# print(ww, type(ww))\n",
    "\n",
    "answer = str(min(s))+\" \"+str(max(s))\n",
    "# # print(answer)\n",
    "# answer = ''\n",
    "\n",
    "return str(min([int(x) for x in s.split(\" \")]))+\" \"+str(max([int(x) for x in s.split(\" \")]))"
   ]
  },
  {
   "cell_type": "code",
   "execution_count": null,
   "metadata": {},
   "outputs": [],
   "source": [
    "index = [0]\n",
    "answer = ''\n",
    "for i, j in enumerate(s):\n",
    "    if j==\" \":\n",
    "        index.append(i+1)\n",
    "    \n",
    "for i, j in enumerate(s):\n",
    "    if i in index:\n",
    "        answer = answer + j.upper()\n",
    "    else:\n",
    "        answer = answer + j.lower()"
   ]
  },
  {
   "cell_type": "code",
   "execution_count": 30,
   "metadata": {},
   "outputs": [
    {
     "name": "stdout",
     "output_type": "stream",
     "text": [
      "Hello world bye\n",
      "Hello World Bye\n"
     ]
    }
   ],
   "source": [
    "# capitalize, title 차이\n",
    "a = \"hELlO WoRLD byE\"\n",
    "# 문자열 전체를\n",
    "print(a.capitalize())\n",
    "# 띄어쓰기 기준으로\n",
    "print(a.title())"
   ]
  },
  {
   "cell_type": "code",
   "execution_count": 4,
   "metadata": {},
   "outputs": [
    {
     "data": {
      "text/plain": [
       "0"
      ]
     },
     "execution_count": 4,
     "metadata": {},
     "output_type": "execute_result"
    }
   ],
   "source": [
    "num = 34\n",
    "n= 3\n",
    "answer = lambda x, y: 1 if x%y==0 else 0\n",
    "answer(num,n) "
   ]
  },
  {
   "cell_type": "code",
   "execution_count": 8,
   "metadata": {},
   "outputs": [
    {
     "data": {
      "text/plain": [
       "True"
      ]
     },
     "execution_count": 8,
     "metadata": {},
     "output_type": "execute_result"
    }
   ],
   "source": [
    "s = \"pPoooyY\"\n",
    "\n",
    "\n",
    "def solution(s):\n",
    "    return (s.lower().count('p')) == (s.lower().count('y'))\n",
    "\n",
    "solution(s)"
   ]
  },
  {
   "cell_type": "code",
   "execution_count": 41,
   "metadata": {},
   "outputs": [
    {
     "data": {
      "text/plain": [
       "[6, 4, 2]"
      ]
     },
     "execution_count": 41,
     "metadata": {},
     "output_type": "execute_result"
    }
   ],
   "source": [
    "# list의 index/reverse 정렬\n",
    "a = [0,1,2,3,4,5,6,7]\n",
    "a[6:1:-2]\n",
    "a[::-1]\n",
    "#a[i:j:k] \n",
    "# k < 0 : "
   ]
  },
  {
   "cell_type": "code",
   "execution_count": null,
   "metadata": {},
   "outputs": [],
   "source": []
  }
 ],
 "metadata": {
  "kernelspec": {
   "display_name": "Python 3",
   "language": "python",
   "name": "python3"
  },
  "language_info": {
   "codemirror_mode": {
    "name": "ipython",
    "version": 3
   },
   "file_extension": ".py",
   "mimetype": "text/x-python",
   "name": "python",
   "nbconvert_exporter": "python",
   "pygments_lexer": "ipython3",
   "version": "3.7.5"
  },
  "orig_nbformat": 4
 },
 "nbformat": 4,
 "nbformat_minor": 2
}
